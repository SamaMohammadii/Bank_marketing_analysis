{
 "cells": [
  {
   "cell_type": "code",
   "execution_count": 10,
   "metadata": {},
   "outputs": [],
   "source": [
    "import pandas as pd\n",
    "from pathlib import Path"
   ]
  },
  {
   "cell_type": "code",
   "execution_count": 41,
   "metadata": {},
   "outputs": [
    {
     "name": "stderr",
     "output_type": "stream",
     "text": [
      "C:\\Users\\ASUS\\AppData\\Local\\Temp\\ipykernel_44096\\4243819041.py:8: FutureWarning: DataFrame.applymap has been deprecated. Use DataFrame.map instead.\n",
      "  df = df.applymap(lambda x: str(x).replace('\"', '') if isinstance(x, str) else x)\n",
      "C:\\Users\\ASUS\\AppData\\Local\\Temp\\ipykernel_44096\\4243819041.py:8: FutureWarning: DataFrame.applymap has been deprecated. Use DataFrame.map instead.\n",
      "  df = df.applymap(lambda x: str(x).replace('\"', '') if isinstance(x, str) else x)\n",
      "C:\\Users\\ASUS\\AppData\\Local\\Temp\\ipykernel_44096\\4243819041.py:8: FutureWarning: DataFrame.applymap has been deprecated. Use DataFrame.map instead.\n",
      "  df = df.applymap(lambda x: str(x).replace('\"', '') if isinstance(x, str) else x)\n",
      "C:\\Users\\ASUS\\AppData\\Local\\Temp\\ipykernel_44096\\4243819041.py:8: FutureWarning: DataFrame.applymap has been deprecated. Use DataFrame.map instead.\n",
      "  df = df.applymap(lambda x: str(x).replace('\"', '') if isinstance(x, str) else x)\n"
     ]
    }
   ],
   "source": [
    "input_file = Path(\"D:/Trains/bank_marketing_proj/data/raw\")\n",
    "output_file = Path(\"D:/Trains/bank_marketing_proj/data/input\")\n",
    "\n",
    "for file in input_file.glob('*.csv'):\n",
    "    df = pd.read_csv(file, sep=';', quotechar='\"')\n",
    "\n",
    "    # Remove \" from data\n",
    "    df = df.applymap(lambda x: str(x).replace('\"', '') if isinstance(x, str) else x)\n",
    "\n",
    "    out_path = output_file / file.name  \n",
    "    df.to_csv(out_path, sep=',', index=False)"
   ]
  },
  {
   "cell_type": "code",
   "execution_count": null,
   "metadata": {},
   "outputs": [],
   "source": []
  }
 ],
 "metadata": {
  "kernelspec": {
   "display_name": "Python 3",
   "language": "python",
   "name": "python3"
  },
  "language_info": {
   "codemirror_mode": {
    "name": "ipython",
    "version": 3
   },
   "file_extension": ".py",
   "mimetype": "text/x-python",
   "name": "python",
   "nbconvert_exporter": "python",
   "pygments_lexer": "ipython3",
   "version": "3.12.8"
  }
 },
 "nbformat": 4,
 "nbformat_minor": 2
}
